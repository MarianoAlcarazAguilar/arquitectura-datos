{
 "cells": [
  {
   "cell_type": "markdown",
   "id": "14f1c9b5-792e-4a80-b66e-0ed46addc93a",
   "metadata": {},
   "source": [
    "# Animating Images"
   ]
  },
  {
   "cell_type": "code",
   "execution_count": 1,
   "id": "f8329f4e-2365-4631-a285-69d7ecbcfa3a",
   "metadata": {},
   "outputs": [],
   "source": [
    "from nasa_api_controler import NasaControler\n",
    "import numpy as np\n",
    "from PIL import Image\n",
    "import os"
   ]
  },
  {
   "cell_type": "code",
   "execution_count": 2,
   "id": "34d81419-a45d-4bac-97fb-52400f71f6aa",
   "metadata": {},
   "outputs": [],
   "source": [
    "controler = NasaControler(images_folder='images/')"
   ]
  },
  {
   "cell_type": "code",
   "execution_count": 3,
   "id": "161e54dd-4cce-414e-ac59-13af43514bcd",
   "metadata": {},
   "outputs": [],
   "source": [
    "def make_valid_date(year, month, day):\n",
    "    if month < 10: month = f'0{month}'\n",
    "    if day < 10: day = f'0{day}'\n",
    "    return f'{year}-{month}-{day}'"
   ]
  },
  {
   "cell_type": "code",
   "execution_count": null,
   "id": "a9394dbf-4965-4ea9-bf33-e353992c37c4",
   "metadata": {},
   "outputs": [],
   "source": [
    "for month in np.arange(1,13):\n",
    "    for day in np.arange(1,29):\n",
    "        date = make_valid_date(2023, month, day)\n",
    "        controler.load_image(date, save=True)"
   ]
  },
  {
   "cell_type": "code",
   "execution_count": 4,
   "id": "60ff45e3-2630-4702-a9f9-3d01cd2f6612",
   "metadata": {},
   "outputs": [
    {
     "name": "stdout",
     "output_type": "stream",
     "text": [
      "Archivo GIF guardado en 'resultado.gif'\n"
     ]
    }
   ],
   "source": [
    "# Ruta de las imágenes que deseas convertir en un GIF\n",
    "ruta_imagenes = \"images\"\n",
    "extension_imagenes = \"png\"  # Cambia esto a la extensión de tus imágenes\n",
    "\n",
    "# Obtén la lista de nombres de archivo de las imágenes en la carpeta\n",
    "archivos_imagenes = [f for f in os.listdir(ruta_imagenes) if f.endswith(f\".{extension_imagenes}\")]\n",
    "\n",
    "# Ordena los nombres de archivo para asegurarte de que el GIF tenga un orden coherente\n",
    "archivos_imagenes.sort()\n",
    "\n",
    "# Lista para almacenar los objetos Image\n",
    "imagenes = []\n",
    "\n",
    "# Abre y agrega cada imagen a la lista de imágenes\n",
    "for archivo in archivos_imagenes:\n",
    "    ruta_completa = os.path.join(ruta_imagenes, archivo)\n",
    "    imagen = Image.open(ruta_completa)\n",
    "    imagenes.append(imagen)\n",
    "\n",
    "# Ruta donde se guardará el archivo GIF resultante\n",
    "ruta_gif = \"resultado.gif\"\n",
    "\n",
    "# Guarda las imágenes como un archivo GIF\n",
    "imagenes[0].save(ruta_gif, save_all=True, append_images=imagenes[1:], duration=100, loop=0)\n",
    "\n",
    "print(f\"Archivo GIF guardado en '{ruta_gif}'\")"
   ]
  },
  {
   "cell_type": "code",
   "execution_count": null,
   "id": "a4cdef0b-1df6-49b9-959a-e6ce40505898",
   "metadata": {},
   "outputs": [],
   "source": []
  }
 ],
 "metadata": {
  "kernelspec": {
   "display_name": "Python 3 (ipykernel)",
   "language": "python",
   "name": "python3"
  },
  "language_info": {
   "codemirror_mode": {
    "name": "ipython",
    "version": 3
   },
   "file_extension": ".py",
   "mimetype": "text/x-python",
   "name": "python",
   "nbconvert_exporter": "python",
   "pygments_lexer": "ipython3",
   "version": "3.10.13"
  }
 },
 "nbformat": 4,
 "nbformat_minor": 5
}
